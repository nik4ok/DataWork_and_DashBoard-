{
 "cells": [
  {
   "cell_type": "markdown",
   "id": "7e15b956-3c9c-48a5-b2e4-9c501e2537bd",
   "metadata": {},
   "source": [
    "# Обработка данных с помощью pandas и создание простого интерактивного DashBoard\n",
    "### ЗАДАНИЕ"
   ]
  },
  {
   "cell_type": "markdown",
   "id": "749d4e35-a456-4193-ad42-8955c23b7f42",
   "metadata": {},
   "source": [
    "задача - подготовить и обработать исходные данных так, чтобы их можно было использовать во второй части задания.\n",
    "```\n",
    "    Требования к выходным данным:\n",
    "    1) В выходной таблице должны остаться только следующие колонки:\n",
    "area, cluster, cluster_name, keyword, x, y, count, color, где\n",
    "●\t area - область,\n",
    "●\t cluster - номер кластера,\n",
    "●\t cluster_name - название кластера,\n",
    "●\t keyword - словосочетание,\n",
    "●\t count - показатель,\n",
    "●\t x и y - координаты для диаграммы рассеяния,\n",
    "●\t color - цвет точки на карте для данного словосочетания\n",
    "\n",
    "    2) Колонку color нужно добавить самостоятельно - цвета вы можете взять из цветовых палеток Tableu или по своему усмотрению.\n",
    "    3) Цвет задается каждому словосочетанию согласно следующими правилам:\n",
    "●\tвнутри одной области цвета словосочетаний в одном кластере должны быть одинаковые, в разных - отличаться (например, у \"Кластер 1\" все слова будут окрашены в красный, у \"Кластер 2\" - в зеленый и т.д.)\n",
    "●\tцвета кластеров в разных областях могут повторяться\n",
    "●\tцвета кластеров в разных областях с разным номером не имеют никакой связи (у одной области [area] слова из \"Кластер 1\" могут быть красного цвета, в другой области у слов из \"Кластер 1\" может быть другой цвет)\n",
    "    4) Не должно быть дубликатов слов в одной и той же области (area), но словосочетание может повторяться из area в area\n",
    "    5) Колонки должны называться именно так, как указано в п.1\n",
    "    6) Сортировка должна происходить по колонкам area, cluster, cluster_name, count (по count значения сортируются в убывающем порядке, в остальных - по возрастающему).\n",
    "    7) Количество переданных в исходных ключевых слов должно совпадать с количество слов в выходных данных (за исключением дублированных строк или строк с пустыми\\неформатными значениями по ключевым показателям [перечислены в п. 1], если такие имеются).\n",
    "    8) Никакие другие особенности оформления не должны учитываться при обработке данных (заливка и пр.)\n",
    "    9) Выходные данные должны быть аккуратно оформлены (заголовки закреплены, включен фильтр)\n",
    "```"
   ]
  },
  {
   "cell_type": "code",
   "execution_count": 1,
   "id": "620e23b2-fc03-40bc-a6de-d328927d1261",
   "metadata": {},
   "outputs": [],
   "source": [
    "# пакеты для обработки данных\n",
    "import matplotlib.pyplot as plt\n",
    "import pandas as pd\n",
    "import numpy as np"
   ]
  },
  {
   "cell_type": "code",
   "execution_count": 2,
   "id": "d88fc87e-f877-4d2e-9f42-e4efc09cc892",
   "metadata": {
    "scrolled": true
   },
   "outputs": [
    {
     "name": "stderr",
     "output_type": "stream",
     "text": [
      "\n",
      "[notice] A new release of pip is available: 23.1.2 -> 23.2.1\n",
      "[notice] To update, run: python.exe -m pip install --upgrade pip\n"
     ]
    },
    {
     "name": "stdout",
     "output_type": "stream",
     "text": [
      "Requirement already satisfied: dash in c:\\users\\никита\\appdata\\local\\programs\\python\\python310\\lib\\site-packages (2.12.1)\n",
      "Requirement already satisfied: Flask<2.3.0,>=1.0.4 in c:\\users\\никита\\appdata\\local\\programs\\python\\python310\\lib\\site-packages (from dash) (2.2.5)\n",
      "Requirement already satisfied: Werkzeug<2.3.0 in c:\\users\\никита\\appdata\\local\\programs\\python\\python310\\lib\\site-packages (from dash) (2.2.3)\n",
      "Requirement already satisfied: plotly>=5.0.0 in c:\\users\\никита\\appdata\\local\\programs\\python\\python310\\lib\\site-packages (from dash) (5.16.1)\n",
      "Requirement already satisfied: dash-html-components==2.0.0 in c:\\users\\никита\\appdata\\local\\programs\\python\\python310\\lib\\site-packages (from dash) (2.0.0)\n",
      "Requirement already satisfied: dash-core-components==2.0.0 in c:\\users\\никита\\appdata\\local\\programs\\python\\python310\\lib\\site-packages (from dash) (2.0.0)\n",
      "Requirement already satisfied: dash-table==5.0.0 in c:\\users\\никита\\appdata\\local\\programs\\python\\python310\\lib\\site-packages (from dash) (5.0.0)\n",
      "Requirement already satisfied: typing-extensions>=4.1.1 in c:\\users\\никита\\appdata\\local\\programs\\python\\python310\\lib\\site-packages (from dash) (4.7.1)\n",
      "Requirement already satisfied: requests in c:\\users\\никита\\appdata\\local\\programs\\python\\python310\\lib\\site-packages (from dash) (2.28.1)\n",
      "Requirement already satisfied: retrying in c:\\users\\никита\\appdata\\local\\programs\\python\\python310\\lib\\site-packages (from dash) (1.3.4)\n",
      "Requirement already satisfied: ansi2html in c:\\users\\никита\\appdata\\local\\programs\\python\\python310\\lib\\site-packages (from dash) (1.8.0)\n",
      "Requirement already satisfied: nest-asyncio in c:\\users\\никита\\appdata\\local\\programs\\python\\python310\\lib\\site-packages (from dash) (1.5.7)\n",
      "Requirement already satisfied: setuptools in c:\\users\\никита\\appdata\\local\\programs\\python\\python310\\lib\\site-packages (from dash) (60.2.0)\n",
      "Requirement already satisfied: Jinja2>=3.0 in c:\\users\\никита\\appdata\\local\\programs\\python\\python310\\lib\\site-packages (from Flask<2.3.0,>=1.0.4->dash) (3.1.2)\n",
      "Requirement already satisfied: itsdangerous>=2.0 in c:\\users\\никита\\appdata\\local\\programs\\python\\python310\\lib\\site-packages (from Flask<2.3.0,>=1.0.4->dash) (2.1.2)\n",
      "Requirement already satisfied: click>=8.0 in c:\\users\\никита\\appdata\\local\\programs\\python\\python310\\lib\\site-packages (from Flask<2.3.0,>=1.0.4->dash) (8.1.7)\n",
      "Requirement already satisfied: tenacity>=6.2.0 in c:\\users\\никита\\appdata\\local\\programs\\python\\python310\\lib\\site-packages (from plotly>=5.0.0->dash) (8.2.3)\n",
      "Requirement already satisfied: packaging in c:\\users\\никита\\appdata\\local\\programs\\python\\python310\\lib\\site-packages (from plotly>=5.0.0->dash) (21.3)\n",
      "Requirement already satisfied: MarkupSafe>=2.1.1 in c:\\users\\никита\\appdata\\local\\programs\\python\\python310\\lib\\site-packages (from Werkzeug<2.3.0->dash) (2.1.3)\n",
      "Requirement already satisfied: charset-normalizer<3,>=2 in c:\\users\\никита\\appdata\\local\\programs\\python\\python310\\lib\\site-packages (from requests->dash) (2.1.1)\n",
      "Requirement already satisfied: idna<4,>=2.5 in c:\\users\\никита\\appdata\\local\\programs\\python\\python310\\lib\\site-packages (from requests->dash) (3.4)\n",
      "Requirement already satisfied: urllib3<1.27,>=1.21.1 in c:\\users\\никита\\appdata\\local\\programs\\python\\python310\\lib\\site-packages (from requests->dash) (1.26.12)\n",
      "Requirement already satisfied: certifi>=2017.4.17 in c:\\users\\никита\\appdata\\local\\programs\\python\\python310\\lib\\site-packages (from requests->dash) (2022.9.24)\n",
      "Requirement already satisfied: six>=1.7.0 in c:\\users\\никита\\appdata\\local\\programs\\python\\python310\\lib\\site-packages (from retrying->dash) (1.16.0)\n",
      "Requirement already satisfied: colorama in c:\\users\\никита\\appdata\\local\\programs\\python\\python310\\lib\\site-packages (from click>=8.0->Flask<2.3.0,>=1.0.4->dash) (0.4.6)\n",
      "Requirement already satisfied: pyparsing!=3.0.5,>=2.0.2 in c:\\users\\никита\\appdata\\local\\programs\\python\\python310\\lib\\site-packages (from packaging->plotly>=5.0.0->dash) (3.0.9)\n"
     ]
    }
   ],
   "source": [
    "# пакеты для визуализации\n",
    "!pip install dash\n",
    "import dash\n",
    "from dash import dcc\n",
    "from dash import html\n",
    "import pandas as pd\n",
    "import plotly.graph_objs as go\n"
   ]
  },
  {
   "cell_type": "markdown",
   "id": "e7e59e5f-dabd-492d-9060-898c8c9012db",
   "metadata": {},
   "source": [
    "Посмотрим, что за DataFrame"
   ]
  },
  {
   "cell_type": "code",
   "execution_count": 3,
   "id": "25a2841f-a916-4bae-8f0f-a07b6ff14e74",
   "metadata": {},
   "outputs": [],
   "source": [
    "#Установим настройки вывода \n",
    "pd.options.display.width = None\n",
    "pd.options.display.max_columns = None\n",
    "pd.set_option('display.max_rows', 20)\n",
    "pd.set_option('display.max_columns', 10)\n",
    "pd.set_option('display.width', 1000)"
   ]
  },
  {
   "cell_type": "code",
   "execution_count": 4,
   "id": "9db9af61-2499-44d9-ab8e-24f545d30731",
   "metadata": {},
   "outputs": [
    {
     "data": {
      "text/html": [
       "<div>\n",
       "<style scoped>\n",
       "    .dataframe tbody tr th:only-of-type {\n",
       "        vertical-align: middle;\n",
       "    }\n",
       "\n",
       "    .dataframe tbody tr th {\n",
       "        vertical-align: top;\n",
       "    }\n",
       "\n",
       "    .dataframe thead th {\n",
       "        text-align: right;\n",
       "    }\n",
       "</style>\n",
       "<table border=\"1\" class=\"dataframe\">\n",
       "  <thead>\n",
       "    <tr style=\"text-align: right;\">\n",
       "      <th></th>\n",
       "      <th>area</th>\n",
       "      <th>cluster</th>\n",
       "      <th>cluster_name</th>\n",
       "      <th>keyword</th>\n",
       "      <th>good (1)</th>\n",
       "      <th>count</th>\n",
       "      <th>x</th>\n",
       "      <th>y</th>\n",
       "    </tr>\n",
       "  </thead>\n",
       "  <tbody>\n",
       "    <tr>\n",
       "      <th>0</th>\n",
       "      <td>eligibility</td>\n",
       "      <td>0.0</td>\n",
       "      <td>Кластер 0</td>\n",
       "      <td>several animated buried</td>\n",
       "      <td>1.0</td>\n",
       "      <td>1260</td>\n",
       "      <td>5.772342</td>\n",
       "      <td>12.564796257345005</td>\n",
       "    </tr>\n",
       "    <tr>\n",
       "      <th>1</th>\n",
       "      <td>eligibility</td>\n",
       "      <td>0.0</td>\n",
       "      <td>Кластер 0</td>\n",
       "      <td>singles unusual buyers</td>\n",
       "      <td>1.0</td>\n",
       "      <td>866</td>\n",
       "      <td>14.829280</td>\n",
       "      <td>7.8507285727125815</td>\n",
       "    </tr>\n",
       "    <tr>\n",
       "      <th>2</th>\n",
       "      <td>eligibility</td>\n",
       "      <td>0.0</td>\n",
       "      <td>Кластер 0</td>\n",
       "      <td>hawaiian directive</td>\n",
       "      <td>1.0</td>\n",
       "      <td>163</td>\n",
       "      <td>11.381856</td>\n",
       "      <td>3.8981370219558604</td>\n",
       "    </tr>\n",
       "    <tr>\n",
       "      <th>3</th>\n",
       "      <td>eligibility</td>\n",
       "      <td>0.0</td>\n",
       "      <td>Кластер 0</td>\n",
       "      <td>dynamics directly</td>\n",
       "      <td>1.0</td>\n",
       "      <td>1146</td>\n",
       "      <td>9.980149</td>\n",
       "      <td>6.281427914064545</td>\n",
       "    </tr>\n",
       "    <tr>\n",
       "      <th>4</th>\n",
       "      <td>eligibility</td>\n",
       "      <td>1.0</td>\n",
       "      <td>Кластер 1</td>\n",
       "      <td>decision surgeons montreal</td>\n",
       "      <td>1.0</td>\n",
       "      <td>823</td>\n",
       "      <td>3.283940</td>\n",
       "      <td>4.39674063521296</td>\n",
       "    </tr>\n",
       "    <tr>\n",
       "      <th>...</th>\n",
       "      <td>...</td>\n",
       "      <td>...</td>\n",
       "      <td>...</td>\n",
       "      <td>...</td>\n",
       "      <td>...</td>\n",
       "      <td>...</td>\n",
       "      <td>...</td>\n",
       "      <td>...</td>\n",
       "    </tr>\n",
       "    <tr>\n",
       "      <th>224</th>\n",
       "      <td>greetings</td>\n",
       "      <td>2.0</td>\n",
       "      <td>Кластер 2</td>\n",
       "      <td>disposition layout</td>\n",
       "      <td>1.0</td>\n",
       "      <td>279</td>\n",
       "      <td>10.971214</td>\n",
       "      <td>4.857810387061303</td>\n",
       "    </tr>\n",
       "    <tr>\n",
       "      <th>225</th>\n",
       "      <td>greetings</td>\n",
       "      <td>2.0</td>\n",
       "      <td>Кластер 2</td>\n",
       "      <td>sapphire grounds</td>\n",
       "      <td>1.0</td>\n",
       "      <td>335</td>\n",
       "      <td>1.160626</td>\n",
       "      <td>3.642819729434763</td>\n",
       "    </tr>\n",
       "    <tr>\n",
       "      <th>226</th>\n",
       "      <td>greetings</td>\n",
       "      <td>3.0</td>\n",
       "      <td>Кластер 3</td>\n",
       "      <td>entire ethical speakers</td>\n",
       "      <td>1.0</td>\n",
       "      <td>1782</td>\n",
       "      <td>7.985910</td>\n",
       "      <td>6.003699268483375</td>\n",
       "    </tr>\n",
       "    <tr>\n",
       "      <th>227</th>\n",
       "      <td>greetings</td>\n",
       "      <td>3.0</td>\n",
       "      <td>Кластер 3</td>\n",
       "      <td>courtesy textiles diameter</td>\n",
       "      <td>1.0</td>\n",
       "      <td>84</td>\n",
       "      <td>0.509490</td>\n",
       "      <td>4.151198803764073</td>\n",
       "    </tr>\n",
       "    <tr>\n",
       "      <th>228</th>\n",
       "      <td>greetings</td>\n",
       "      <td>3.0</td>\n",
       "      <td>Кластер 3</td>\n",
       "      <td>comfort rivers</td>\n",
       "      <td>1.0</td>\n",
       "      <td>1806</td>\n",
       "      <td>6.961866</td>\n",
       "      <td>6.435589561443678</td>\n",
       "    </tr>\n",
       "  </tbody>\n",
       "</table>\n",
       "<p>229 rows × 8 columns</p>\n",
       "</div>"
      ],
      "text/plain": [
       "            area  cluster cluster_name                     keyword  good (1) count          x                   y\n",
       "0    eligibility      0.0    Кластер 0     several animated buried       1.0  1260   5.772342  12.564796257345005\n",
       "1    eligibility      0.0    Кластер 0      singles unusual buyers       1.0   866  14.829280  7.8507285727125815\n",
       "2    eligibility      0.0    Кластер 0          hawaiian directive       1.0   163  11.381856  3.8981370219558604\n",
       "3    eligibility      0.0    Кластер 0           dynamics directly       1.0  1146   9.980149   6.281427914064545\n",
       "4    eligibility      1.0    Кластер 1  decision surgeons montreal       1.0   823   3.283940    4.39674063521296\n",
       "..           ...      ...          ...                         ...       ...   ...        ...                 ...\n",
       "224    greetings      2.0    Кластер 2          disposition layout       1.0   279  10.971214   4.857810387061303\n",
       "225    greetings      2.0    Кластер 2            sapphire grounds       1.0   335   1.160626   3.642819729434763\n",
       "226    greetings      3.0    Кластер 3     entire ethical speakers       1.0  1782   7.985910   6.003699268483375\n",
       "227    greetings      3.0    Кластер 3  courtesy textiles diameter       1.0    84   0.509490   4.151198803764073\n",
       "228    greetings      3.0    Кластер 3              comfort rivers       1.0  1806   6.961866   6.435589561443678\n",
       "\n",
       "[229 rows x 8 columns]"
      ]
     },
     "execution_count": 4,
     "metadata": {},
     "output_type": "execute_result"
    }
   ],
   "source": [
    "df = pd.read_csv('tz_data.csv') \n",
    "df"
   ]
  },
  {
   "cell_type": "code",
   "execution_count": 5,
   "id": "20b33ff0-3cb5-4783-8f65-d7c05992266f",
   "metadata": {},
   "outputs": [
    {
     "name": "stdout",
     "output_type": "stream",
     "text": [
      "Исходная размерность даты: (229, 8)\n"
     ]
    }
   ],
   "source": [
    "print('Исходная размерность даты:', df.shape)  # посмотрели размерность даты"
   ]
  },
  {
   "cell_type": "code",
   "execution_count": 6,
   "id": "68e30314-93cf-41e7-8461-1b7debe5ef30",
   "metadata": {},
   "outputs": [
    {
     "data": {
      "text/plain": [
       "0      1.0\n",
       "1      1.0\n",
       "2      1.0\n",
       "3      1.0\n",
       "4      1.0\n",
       "      ... \n",
       "224    1.0\n",
       "225    1.0\n",
       "226    1.0\n",
       "227    1.0\n",
       "228    1.0\n",
       "Name: good (1), Length: 229, dtype: float64"
      ]
     },
     "execution_count": 6,
     "metadata": {},
     "output_type": "execute_result"
    }
   ],
   "source": [
    "df.pop('good (1)')"
   ]
  },
  {
   "cell_type": "code",
   "execution_count": 7,
   "id": "55781d29-b498-4218-9482-706c147de205",
   "metadata": {},
   "outputs": [],
   "source": [
    "# считаем пропуски\n",
    "df2 = df.isnull().sum(axis=0)"
   ]
  },
  {
   "cell_type": "code",
   "execution_count": 8,
   "id": "b52d6b9a-2a82-4e1c-85aa-1581d1960548",
   "metadata": {},
   "outputs": [
    {
     "data": {
      "text/plain": [
       "area            1\n",
       "cluster         1\n",
       "cluster_name    1\n",
       "keyword         1\n",
       "count           2\n",
       "x               1\n",
       "y               1\n",
       "dtype: int64"
      ]
     },
     "execution_count": 8,
     "metadata": {},
     "output_type": "execute_result"
    }
   ],
   "source": [
    "df2"
   ]
  },
  {
   "cell_type": "code",
   "execution_count": 9,
   "id": "9acb0e4d-c8c4-4af6-b686-6825b52de030",
   "metadata": {},
   "outputs": [
    {
     "name": "stdout",
     "output_type": "stream",
     "text": [
      "После удаления пропусков в дате количество строк уменьшилось на:2\n"
     ]
    }
   ],
   "source": [
    "df2 = df.dropna()\n",
    "print(f\"После удаления пропусков в дате количество строк уменьшилось на:{df.shape[0] - df2.shape[0]}\")"
   ]
  },
  {
   "cell_type": "code",
   "execution_count": 10,
   "id": "c6e585c3-686a-4e68-9e28-6ca2530c12af",
   "metadata": {},
   "outputs": [
    {
     "data": {
      "text/plain": [
       "(          cluster           x\n",
       " count  227.000000  227.000000\n",
       " mean     1.396476    7.682790\n",
       " std      1.081455    4.363280\n",
       " min      0.000000    0.039448\n",
       " 25%      0.000000    3.610201\n",
       " 50%      1.000000    8.042422\n",
       " 75%      2.000000   11.390670\n",
       " max      3.000000   14.927879,\n",
       "                area cluster_name                  keyword count                   y\n",
       " count           227          227                      227   227                 227\n",
       " unique           15            4                      193   208                 224\n",
       " top     eligibility    Кластер 1  offset cnetcom applying   161  0.7791614555083071\n",
       " freq             16           62                        3     3                   2)"
      ]
     },
     "execution_count": 10,
     "metadata": {},
     "output_type": "execute_result"
    }
   ],
   "source": [
    "# посмотрим основные описательные статистики по числовым столбцам и столбцам с объектами (категориальные переменные)\n",
    "\n",
    "df2.describe(), df2.describe(include='object')"
   ]
  },
  {
   "cell_type": "markdown",
   "id": "866cdb25-746d-4d84-a30d-9dc14f9c72c5",
   "metadata": {},
   "source": [
    "**выяснили, что числовые описательные статистики не все по числам, есть проблема в типе данных по столбцам**"
   ]
  },
  {
   "cell_type": "code",
   "execution_count": 11,
   "id": "91da2c0f-88ac-4314-901e-fa530a290387",
   "metadata": {},
   "outputs": [
    {
     "data": {
      "text/plain": [
       "area             object\n",
       "cluster         float64\n",
       "cluster_name     object\n",
       "keyword          object\n",
       "count            object\n",
       "x               float64\n",
       "y                object\n",
       "dtype: object"
      ]
     },
     "execution_count": 11,
     "metadata": {},
     "output_type": "execute_result"
    }
   ],
   "source": [
    "df2.dtypes"
   ]
  },
  {
   "cell_type": "code",
   "execution_count": 12,
   "id": "0a8b5d1a-8f21-42e5-90fc-543efe10ac5c",
   "metadata": {},
   "outputs": [
    {
     "name": "stderr",
     "output_type": "stream",
     "text": [
      "C:\\Users\\Никита\\AppData\\Local\\Temp\\ipykernel_17936\\1463735087.py:1: SettingWithCopyWarning: \n",
      "A value is trying to be set on a copy of a slice from a DataFrame.\n",
      "Try using .loc[row_indexer,col_indexer] = value instead\n",
      "\n",
      "See the caveats in the documentation: https://pandas.pydata.org/pandas-docs/stable/user_guide/indexing.html#returning-a-view-versus-a-copy\n",
      "  df2[['count', 'y']] = df2.loc[:,['count', 'y']].apply(pd.to_numeric, errors='coerce') #ошибки заменить на NaN\n"
     ]
    }
   ],
   "source": [
    "df2[['count', 'y']] = df2.loc[:,['count', 'y']].apply(pd.to_numeric, errors='coerce') #ошибки заменить на NaN"
   ]
  },
  {
   "cell_type": "code",
   "execution_count": 13,
   "id": "f0e835cb-e412-4f92-b357-31791c8bd30e",
   "metadata": {},
   "outputs": [
    {
     "data": {
      "text/plain": [
       "area             object\n",
       "cluster         float64\n",
       "cluster_name     object\n",
       "keyword          object\n",
       "count           float64\n",
       "x               float64\n",
       "y               float64\n",
       "dtype: object"
      ]
     },
     "execution_count": 13,
     "metadata": {},
     "output_type": "execute_result"
    }
   ],
   "source": [
    "df2.dtypes   "
   ]
  },
  {
   "cell_type": "markdown",
   "id": "7da5f960-55e2-41c7-860a-8f6088cd8289",
   "metadata": {},
   "source": [
    "**теперь по типу данных все корректно**"
   ]
  },
  {
   "cell_type": "code",
   "execution_count": 14,
   "id": "715b692b-af1c-4510-a76a-29f9133ae96c",
   "metadata": {},
   "outputs": [],
   "source": [
    "df3 = df2.dropna() #убрали все пропуски\n"
   ]
  },
  {
   "cell_type": "code",
   "execution_count": 15,
   "id": "387cf933-fc80-46b3-907d-7650d91309f0",
   "metadata": {},
   "outputs": [
    {
     "data": {
      "text/plain": [
       "(          cluster        count           x           y\n",
       " count  224.000000   224.000000  224.000000  224.000000\n",
       " mean     1.401786   986.718750    7.628671    7.043125\n",
       " std      1.083590   587.951598    4.361012    4.253755\n",
       " min      0.000000    19.000000    0.039448    0.060807\n",
       " 25%      0.000000   470.500000    3.595513    3.605627\n",
       " 50%      1.000000  1008.000000    8.010815    6.735408\n",
       " 75%      2.000000  1496.000000   11.363495   10.298580\n",
       " max      3.000000  1986.000000   14.927879   14.923944,\n",
       "                area cluster_name                  keyword\n",
       " count           224          224                      224\n",
       " unique           15            4                      191\n",
       " top     eligibility    Кластер 1  offset cnetcom applying\n",
       " freq             16           61                        3)"
      ]
     },
     "execution_count": 15,
     "metadata": {},
     "output_type": "execute_result"
    }
   ],
   "source": [
    "df3.describe(), df3.describe(include ='object') #посмотрим основные описательные  статистики "
   ]
  },
  {
   "cell_type": "markdown",
   "id": "6e66fe1d-646a-4b1a-8139-e2cc60da6efe",
   "metadata": {},
   "source": [
    "**посмотрим, насколько изменилась размерность DataFrame по сравнению с исходной таблицей** "
   ]
  },
  {
   "cell_type": "code",
   "execution_count": 16,
   "id": "41ec8084-37d6-45e0-9aea-c9a6e6c6fa3c",
   "metadata": {},
   "outputs": [
    {
     "data": {
      "text/plain": [
       "'Размерность изменилась на: 2.18 %'"
      ]
     },
     "execution_count": 16,
     "metadata": {},
     "output_type": "execute_result"
    }
   ],
   "source": [
    "f'Размерность изменилась на: {(100 * (df.shape[0] - df3.shape[0]) / df.shape[0]).__round__(2)} %'"
   ]
  },
  {
   "cell_type": "markdown",
   "id": "37117a80-a3de-47a2-937a-2cf23e1c82d8",
   "metadata": {},
   "source": [
    "**проверим, есть ли дубликаты слов в одной и тойже области, но словосочетание может повторятся из области в область**"
   ]
  },
  {
   "cell_type": "code",
   "execution_count": 17,
   "id": "1c99fbc9-0d5f-4ce9-bc0b-95605ff6c36b",
   "metadata": {},
   "outputs": [],
   "source": [
    "df3_1 = df3.groupby(['area']).agg({'keyword': ['count']})    #подсчитаем общее количество элементов\n",
    "df3_2 = df3.groupby(['area']).agg({'keyword': ['nunique']})  #подсчитаем количество уникальных элементов"
   ]
  },
  {
   "cell_type": "code",
   "execution_count": 18,
   "id": "261a9558-0b45-40ed-b730-4b89ded2e8d4",
   "metadata": {},
   "outputs": [],
   "source": [
    "df4 = pd.concat([df3_1, df3_2], ignore_index=False, axis=1) # склеим две таблички \n",
    "df4.columns = ['counts', 'uniques']         # дадим название столбцам \n",
    "df4['delta'] = df4['counts'] - df4['uniques'] #подсчитаем разность "
   ]
  },
  {
   "cell_type": "code",
   "execution_count": 19,
   "id": "af24e43e-4b6d-4580-a1a7-156c4962f072",
   "metadata": {},
   "outputs": [
    {
     "data": {
      "text/plain": [
       "(             counts  uniques  delta\n",
       " area                               \n",
       " ar\\vr            15       14      1\n",
       " available        15       15      0\n",
       " capability       15       15      0\n",
       " dialog           15       14      1\n",
       " eligibility      16       14      2\n",
       " except           15       15      0\n",
       " greetings        15       14      1\n",
       " housewives       14       14      0\n",
       " lithuania        15       15      0\n",
       " locator          15       15      0\n",
       " personnel        15       15      0\n",
       " protein          14       14      0\n",
       " twisted          16       14      2\n",
       " winner           15       15      0\n",
       " worlds           14       14      0,\n",
       " (224, 7))"
      ]
     },
     "execution_count": 19,
     "metadata": {},
     "output_type": "execute_result"
    }
   ],
   "source": [
    "df4, df3.shape"
   ]
  },
  {
   "cell_type": "code",
   "execution_count": 20,
   "id": "f2dc30f6-1351-42bb-a3ce-14f008a61559",
   "metadata": {},
   "outputs": [],
   "source": [
    "#код удалит дубликаты только в тех строках, где значения в колонках \"область\" и \"слово\" совпадают\n",
    "df5 = df3.drop_duplicates(subset=['area', 'keyword'], keep='last') "
   ]
  },
  {
   "cell_type": "code",
   "execution_count": 21,
   "id": "1749730e-2177-4ea6-95d0-fa020c6ebc86",
   "metadata": {},
   "outputs": [
    {
     "data": {
      "text/plain": [
       "(217, 7)"
      ]
     },
     "execution_count": 21,
     "metadata": {},
     "output_type": "execute_result"
    }
   ],
   "source": [
    "df5.shape"
   ]
  },
  {
   "cell_type": "markdown",
   "id": "cda851ab-9410-42ce-866a-257ff119699a",
   "metadata": {},
   "source": [
    "```\n",
    "присвоим цвет каждому из кластеров. Так как цвета кластеров в разных областях могут повторяться, а сами цвета\n",
    "у разных кластеров должны отличаться, то достаточно присвоить свой цвет каждому из кластеров в DataFrame\n",
    "```"
   ]
  },
  {
   "cell_type": "code",
   "execution_count": 22,
   "id": "ea7860d1-034d-4cca-95f9-e2459c461a5c",
   "metadata": {},
   "outputs": [
    {
     "data": {
      "text/html": [
       "<div>\n",
       "<style scoped>\n",
       "    .dataframe tbody tr th:only-of-type {\n",
       "        vertical-align: middle;\n",
       "    }\n",
       "\n",
       "    .dataframe tbody tr th {\n",
       "        vertical-align: top;\n",
       "    }\n",
       "\n",
       "    .dataframe thead tr th {\n",
       "        text-align: left;\n",
       "    }\n",
       "\n",
       "    .dataframe thead tr:last-of-type th {\n",
       "        text-align: right;\n",
       "    }\n",
       "</style>\n",
       "<table border=\"1\" class=\"dataframe\">\n",
       "  <thead>\n",
       "    <tr>\n",
       "      <th></th>\n",
       "      <th>keyword</th>\n",
       "    </tr>\n",
       "    <tr>\n",
       "      <th></th>\n",
       "      <th>count</th>\n",
       "    </tr>\n",
       "    <tr>\n",
       "      <th>cluster</th>\n",
       "      <th></th>\n",
       "    </tr>\n",
       "  </thead>\n",
       "  <tbody>\n",
       "    <tr>\n",
       "      <th>0.0</th>\n",
       "      <td>56</td>\n",
       "    </tr>\n",
       "    <tr>\n",
       "      <th>1.0</th>\n",
       "      <td>58</td>\n",
       "    </tr>\n",
       "    <tr>\n",
       "      <th>2.0</th>\n",
       "      <td>58</td>\n",
       "    </tr>\n",
       "    <tr>\n",
       "      <th>3.0</th>\n",
       "      <td>45</td>\n",
       "    </tr>\n",
       "  </tbody>\n",
       "</table>\n",
       "</div>"
      ],
      "text/plain": [
       "        keyword\n",
       "          count\n",
       "cluster        \n",
       "0.0          56\n",
       "1.0          58\n",
       "2.0          58\n",
       "3.0          45"
      ]
     },
     "execution_count": 22,
     "metadata": {},
     "output_type": "execute_result"
    }
   ],
   "source": [
    "#посмотрим, сколько всего кластеров:\n",
    "df5.groupby('cluster').agg({'keyword': ['count']})\n"
   ]
  },
  {
   "cell_type": "code",
   "execution_count": 23,
   "id": "c1eda7b2-665f-4c12-b964-a36417ec0657",
   "metadata": {},
   "outputs": [
    {
     "name": "stderr",
     "output_type": "stream",
     "text": [
      "C:\\Users\\Никита\\AppData\\Local\\Temp\\ipykernel_17936\\1154198487.py:9: SettingWithCopyWarning: \n",
      "A value is trying to be set on a copy of a slice from a DataFrame.\n",
      "Try using .loc[row_indexer,col_indexer] = value instead\n",
      "\n",
      "See the caveats in the documentation: https://pandas.pydata.org/pandas-docs/stable/user_guide/indexing.html#returning-a-view-versus-a-copy\n",
      "  df5['colors'] = np.select(conditions, values) #создаем новый столбец с цветами\n"
     ]
    }
   ],
   "source": [
    "conditions = [\n",
    "    (df5['cluster'] == 0),\n",
    "    (df5['cluster'] == 1),\n",
    "    (df5['cluster'] == 2),\n",
    "    (df5['cluster'] == 3)\n",
    "]                                 #список условий\n",
    "\n",
    "values = ['red', 'yellow', 'green', 'blue']   # список цветов\n",
    "df5['colors'] = np.select(conditions, values) #создаем новый столбец с цветами \n",
    "\n",
    "\n"
   ]
  },
  {
   "cell_type": "code",
   "execution_count": 24,
   "id": "b2601f25-4e86-48ad-89e9-2ab733cfdeba",
   "metadata": {},
   "outputs": [
    {
     "data": {
      "text/html": [
       "<div>\n",
       "<style scoped>\n",
       "    .dataframe tbody tr th:only-of-type {\n",
       "        vertical-align: middle;\n",
       "    }\n",
       "\n",
       "    .dataframe tbody tr th {\n",
       "        vertical-align: top;\n",
       "    }\n",
       "\n",
       "    .dataframe thead th {\n",
       "        text-align: right;\n",
       "    }\n",
       "</style>\n",
       "<table border=\"1\" class=\"dataframe\">\n",
       "  <thead>\n",
       "    <tr style=\"text-align: right;\">\n",
       "      <th></th>\n",
       "      <th>area</th>\n",
       "      <th>cluster</th>\n",
       "      <th>cluster_name</th>\n",
       "      <th>keyword</th>\n",
       "      <th>count</th>\n",
       "      <th>x</th>\n",
       "      <th>y</th>\n",
       "      <th>colors</th>\n",
       "    </tr>\n",
       "  </thead>\n",
       "  <tbody>\n",
       "    <tr>\n",
       "      <th>0</th>\n",
       "      <td>eligibility</td>\n",
       "      <td>0.0</td>\n",
       "      <td>Кластер 0</td>\n",
       "      <td>several animated buried</td>\n",
       "      <td>1260.0</td>\n",
       "      <td>5.772342</td>\n",
       "      <td>12.564796</td>\n",
       "      <td>red</td>\n",
       "    </tr>\n",
       "    <tr>\n",
       "      <th>1</th>\n",
       "      <td>eligibility</td>\n",
       "      <td>0.0</td>\n",
       "      <td>Кластер 0</td>\n",
       "      <td>singles unusual buyers</td>\n",
       "      <td>866.0</td>\n",
       "      <td>14.829280</td>\n",
       "      <td>7.850729</td>\n",
       "      <td>red</td>\n",
       "    </tr>\n",
       "    <tr>\n",
       "      <th>3</th>\n",
       "      <td>eligibility</td>\n",
       "      <td>0.0</td>\n",
       "      <td>Кластер 0</td>\n",
       "      <td>dynamics directly</td>\n",
       "      <td>1146.0</td>\n",
       "      <td>9.980149</td>\n",
       "      <td>6.281428</td>\n",
       "      <td>red</td>\n",
       "    </tr>\n",
       "    <tr>\n",
       "      <th>4</th>\n",
       "      <td>eligibility</td>\n",
       "      <td>1.0</td>\n",
       "      <td>Кластер 1</td>\n",
       "      <td>decision surgeons montreal</td>\n",
       "      <td>823.0</td>\n",
       "      <td>3.283940</td>\n",
       "      <td>4.396741</td>\n",
       "      <td>yellow</td>\n",
       "    </tr>\n",
       "    <tr>\n",
       "      <th>5</th>\n",
       "      <td>eligibility</td>\n",
       "      <td>1.0</td>\n",
       "      <td>Кластер 1</td>\n",
       "      <td>knives everybody</td>\n",
       "      <td>1377.0</td>\n",
       "      <td>5.607192</td>\n",
       "      <td>13.155189</td>\n",
       "      <td>yellow</td>\n",
       "    </tr>\n",
       "    <tr>\n",
       "      <th>...</th>\n",
       "      <td>...</td>\n",
       "      <td>...</td>\n",
       "      <td>...</td>\n",
       "      <td>...</td>\n",
       "      <td>...</td>\n",
       "      <td>...</td>\n",
       "      <td>...</td>\n",
       "      <td>...</td>\n",
       "    </tr>\n",
       "    <tr>\n",
       "      <th>224</th>\n",
       "      <td>greetings</td>\n",
       "      <td>2.0</td>\n",
       "      <td>Кластер 2</td>\n",
       "      <td>disposition layout</td>\n",
       "      <td>279.0</td>\n",
       "      <td>10.971214</td>\n",
       "      <td>4.857810</td>\n",
       "      <td>green</td>\n",
       "    </tr>\n",
       "    <tr>\n",
       "      <th>225</th>\n",
       "      <td>greetings</td>\n",
       "      <td>2.0</td>\n",
       "      <td>Кластер 2</td>\n",
       "      <td>sapphire grounds</td>\n",
       "      <td>335.0</td>\n",
       "      <td>1.160626</td>\n",
       "      <td>3.642820</td>\n",
       "      <td>green</td>\n",
       "    </tr>\n",
       "    <tr>\n",
       "      <th>226</th>\n",
       "      <td>greetings</td>\n",
       "      <td>3.0</td>\n",
       "      <td>Кластер 3</td>\n",
       "      <td>entire ethical speakers</td>\n",
       "      <td>1782.0</td>\n",
       "      <td>7.985910</td>\n",
       "      <td>6.003699</td>\n",
       "      <td>blue</td>\n",
       "    </tr>\n",
       "    <tr>\n",
       "      <th>227</th>\n",
       "      <td>greetings</td>\n",
       "      <td>3.0</td>\n",
       "      <td>Кластер 3</td>\n",
       "      <td>courtesy textiles diameter</td>\n",
       "      <td>84.0</td>\n",
       "      <td>0.509490</td>\n",
       "      <td>4.151199</td>\n",
       "      <td>blue</td>\n",
       "    </tr>\n",
       "    <tr>\n",
       "      <th>228</th>\n",
       "      <td>greetings</td>\n",
       "      <td>3.0</td>\n",
       "      <td>Кластер 3</td>\n",
       "      <td>comfort rivers</td>\n",
       "      <td>1806.0</td>\n",
       "      <td>6.961866</td>\n",
       "      <td>6.435590</td>\n",
       "      <td>blue</td>\n",
       "    </tr>\n",
       "  </tbody>\n",
       "</table>\n",
       "<p>217 rows × 8 columns</p>\n",
       "</div>"
      ],
      "text/plain": [
       "            area  cluster cluster_name                     keyword   count          x          y  colors\n",
       "0    eligibility      0.0    Кластер 0     several animated buried  1260.0   5.772342  12.564796     red\n",
       "1    eligibility      0.0    Кластер 0      singles unusual buyers   866.0  14.829280   7.850729     red\n",
       "3    eligibility      0.0    Кластер 0           dynamics directly  1146.0   9.980149   6.281428     red\n",
       "4    eligibility      1.0    Кластер 1  decision surgeons montreal   823.0   3.283940   4.396741  yellow\n",
       "5    eligibility      1.0    Кластер 1            knives everybody  1377.0   5.607192  13.155189  yellow\n",
       "..           ...      ...          ...                         ...     ...        ...        ...     ...\n",
       "224    greetings      2.0    Кластер 2          disposition layout   279.0  10.971214   4.857810   green\n",
       "225    greetings      2.0    Кластер 2            sapphire grounds   335.0   1.160626   3.642820   green\n",
       "226    greetings      3.0    Кластер 3     entire ethical speakers  1782.0   7.985910   6.003699    blue\n",
       "227    greetings      3.0    Кластер 3  courtesy textiles diameter    84.0   0.509490   4.151199    blue\n",
       "228    greetings      3.0    Кластер 3              comfort rivers  1806.0   6.961866   6.435590    blue\n",
       "\n",
       "[217 rows x 8 columns]"
      ]
     },
     "execution_count": 24,
     "metadata": {},
     "output_type": "execute_result"
    }
   ],
   "source": [
    "df5\n"
   ]
  },
  {
   "cell_type": "markdown",
   "id": "8837915f-6d1f-4e11-a2da-8b67ec0122a7",
   "metadata": {},
   "source": [
    "**выгрузим обработанный DataFrame в xlsx файл**"
   ]
  },
  {
   "cell_type": "code",
   "execution_count": 25,
   "id": "6b0458e9-0d5d-4a1c-b490-b16a6f9201ef",
   "metadata": {},
   "outputs": [],
   "source": [
    "df5.to_excel(\"output2.xlsx\")"
   ]
  },
  {
   "cell_type": "markdown",
   "id": "f45596c7-f34e-455b-9e9c-e600a1dd86fa",
   "metadata": {},
   "source": [
    "# Cоздание интерактивного дашборда"
   ]
  },
  {
   "cell_type": "code",
   "execution_count": 26,
   "id": "de264cdf-38ec-4524-9b0a-543ca3daaef3",
   "metadata": {},
   "outputs": [],
   "source": [
    "\n",
    "app = dash.Dash(name = \"HSE_test_dashbord\")  #дали название"
   ]
  },
  {
   "cell_type": "code",
   "execution_count": 27,
   "id": "867eb331-43f9-43b7-bc6e-05f4de0f3716",
   "metadata": {},
   "outputs": [],
   "source": [
    "# создаем список опций для фильтрации по областям\n",
    "region_options = [{'label': area, 'value': area} for area in df5['area'].unique()]"
   ]
  },
  {
   "cell_type": "code",
   "execution_count": 28,
   "id": "c6c62782-03ae-4801-b6ec-2604044f5145",
   "metadata": {},
   "outputs": [],
   "source": [
    "# создаем график для начальной области\n",
    "fig = go.Figure()\n",
    "region_data = df5[df5['area'] == 'eligibility'] #присвоим начальное значение из области, равное eligibility "
   ]
  },
  {
   "cell_type": "code",
   "execution_count": 29,
   "id": "8cd02b01-dadb-4176-8f98-7a4df0f29474",
   "metadata": {},
   "outputs": [],
   "source": [
    "#нанесем точки на график \n",
    "for keyword_counter in region_data['keyword']:\n",
    "    fig.add_trace(go.Scatter(x=region_data[region_data['keyword'] == keyword_counter]['x'],\n",
    "                             y=region_data[region_data['keyword'] == keyword_counter]['y']\n",
    "                             )\n",
    "                  )"
   ]
  },
  {
   "cell_type": "code",
   "execution_count": 30,
   "id": "7275a3ce-3d8b-4532-92a4-bf0e8b17595b",
   "metadata": {},
   "outputs": [],
   "source": [
    "# создаем функцию для обновления данных при изменении фильтра, чтобы она активировалась при изменении выбранного фильтра area используем колбэки \n",
    "\n",
    "@app.callback(\n",
    "    dash.dependencies.Output('graph', 'figure'),            #выход будет объект с именем 'graph' со значением 'figure' \n",
    "    [dash.dependencies.Input('region-filter', 'value')]     #на вход передается объект с именем 'region-filter' со значением 'value'\n",
    "    )\n",
    "\n",
    "def update_figure(selected_region):\n",
    "\n",
    "    if selected_region is None:\n",
    "        filtered_data = df5\n",
    "    else:\n",
    "        #создаем DataFrame, который будет содержать только значение по выбранному фильтру, т.е. по area\n",
    "        filtered_data = df5[df5['area'] == selected_region].sort_values(by='y', ascending=False).reset_index(drop=True)\n",
    "        #сортируем по y, чтобы потом реализовать алгоритм минимизации наложения\n",
    "    fig = go.Figure()   #создаем область для графика \n",
    "    \n",
    "    # Алгоритм переноса строки. Если в keyword более трех слов, разделить словосочетание по второму пробелу\n",
    "    for keyword_counter in filtered_data['keyword']:   #проходимся по конкретному keyword\n",
    "        if len(keyword_counter.split()) >= 3:          # если больше трех слов\n",
    "            words = keyword_counter.split()            # создаем список из слов, которые содержит словосочетание\n",
    "            substring = ' '.join(words[:2])            # промежуточной строке присваиваем первые два слова\n",
    "            subsubstring = ' '.join(words[2:])         # подпромежуточной строке присваиваем остальные слова\n",
    "            sub_keyword_counter = substring + '<br>' + subsubstring #соединяем слова через оператор переноса строки для html\n",
    "           #меняем keyword в filtredData на keyword с разделителем строки\n",
    "            filtered_data.loc[filtered_data['keyword'] == keyword_counter, 'keyword'] = sub_keyword_counter  \n",
    "            keyword_counter = sub_keyword_counter #обновляем счетчик \n",
    "        else:\n",
    "            keyword_counter = keyword_counter     #если менее трех слов оставляем слово\n",
    "            \n",
    "    # Алгоритм минимизации наложения. \n",
    "    #Если координаты по y близки для точек, то приналожении на график подписи одну подпись сделать вверху, другую внизу. \n",
    "        text_position_list = ['bottom center', 'top center', 'middle center']       #создаем список с наименованиями положения текста\n",
    "\n",
    "        index = filtered_data[filtered_data['keyword'] == keyword_counter].index[0] #берем текущей индекc по от текущего keyword_counter\n",
    "       \n",
    "        if index + 2 <= filtered_data.shape[0]:    #проверяем условие, если индекс не выходит за размерность DataFrame, то сравниваем координаты\n",
    "            if ((abs(filtered_data.loc[index, 'y'] - filtered_data.loc[index + 1, 'y'])/filtered_data.loc[index, 'y']) <= 0.05):\n",
    "                #если разница менее 5%, то присваиваем одну позицию (в данном случае это будет счетчик i)\n",
    "                i = 1\n",
    "            if ((abs(filtered_data.loc[index, 'y'] - filtered_data.loc[index + 1, 'y'])/filtered_data.loc[index, 'y']) > 0.05):\n",
    "                #если разница более 5%, то присваиваем другую позицию\n",
    "                i = 0\n",
    "        elif index + 2 > filtered_data.shape[0]:\n",
    "            #чтобы не было ошибки, если подошли к последнему индексу присвоить какое-то значение\n",
    "            i = 2\n",
    "            \n",
    "    # Добавляем точечный график\n",
    "        fig.add_trace(go.Scatter(\n",
    "            x=filtered_data[filtered_data['keyword'] == keyword_counter]['x'],  \n",
    "            y=filtered_data[filtered_data['keyword'] == keyword_counter]['y'],\n",
    "            mode='markers+text',  #отображать точки и текст к точкам на графике\n",
    "            textposition=text_position_list[i],   #положение текста в соответствии со счетчиком\n",
    "            marker=dict(                          #параметры точек\n",
    "                size=filtered_data[filtered_data['keyword'] == keyword_counter]['count'],  # размер точки в соответствии со столбцом 'count'\n",
    "                sizemin=10,  #минимальный размер, чтобы точки с маленьким 'count' не были очень маленькими\n",
    "                sizeref=30,  #уменьшаем все точки в 30 раз, чтобы точки с большим 'count' не заполнили весь график\n",
    "                sizemode='diameter',  \n",
    "                color=filtered_data[filtered_data['keyword'] == keyword_counter]['colors'], #задаем цвет точки в соответствии со столбцом из DataFrame \n",
    "                opacity=0.5,      #наполовину прозрачные\n",
    "                showscale=False,  #не вносить в легенду\n",
    "            ),\n",
    "            #сам текст берем из колонки 'keyword', которая уже изменена алгоритмом переноса для слов\n",
    "            text=filtered_data.loc[filtered_data['keyword'] == keyword_counter, 'keyword'], \n",
    "            showlegend = False  #скрываем легенду самих точек\n",
    "        )\n",
    "        )\n",
    "        fig.update_layout(width=1400, height=700)              #устанавливаем размер графика\n",
    "        fig.update_layout(#legend_title_text='Размер точек',\n",
    "                          xaxis_title='Координата точки Х',    #подпись по х\n",
    "                          yaxis_title='Координата точки Y',    #подпись по y\n",
    "                          plot_bgcolor='linen'                 #более менее красивый цвет...\n",
    "                          )\n",
    "\n",
    "    return fig"
   ]
  },
  {
   "cell_type": "code",
   "execution_count": 31,
   "id": "2d44f30b-c9f3-4aca-b98e-92e3ee89ac8b",
   "metadata": {},
   "outputs": [
    {
     "data": {
      "text/html": [
       "\n",
       "        <iframe\n",
       "            width=\"100%\"\n",
       "            height=\"650\"\n",
       "            src=\"http://127.0.0.1:8050/\"\n",
       "            frameborder=\"0\"\n",
       "            allowfullscreen\n",
       "            \n",
       "        ></iframe>\n",
       "        "
      ],
      "text/plain": [
       "<IPython.lib.display.IFrame at 0x1fa053bf520>"
      ]
     },
     "metadata": {},
     "output_type": "display_data"
    }
   ],
   "source": [
    "#Легенду для кластеров создадим исскуственно, добавив на график просто цветные точки\n",
    "\n",
    "# создаем интерфейс с фильтром\n",
    "app.layout = html.Div([\n",
    "    html.Label('Диаграмма рассеяния для каждой area'),\n",
    "    dcc.Dropdown(                   #создаем выпадающий список\n",
    "        id='region-filter',         #наименование\n",
    "        options=region_options,     #первоначальный график\n",
    "        value='eligibility'         #значение\n",
    "    ),\n",
    "    dcc.Graph(id='graph', figure=fig)   #добавляем график , его наименование будет 'graph', a значение fig\n",
    "])\n",
    "\n",
    "if __name__ == '__main__':      #запускаем приложение\n",
    "    app.run_server(debug=True)"
   ]
  },
  {
   "cell_type": "code",
   "execution_count": null,
   "id": "a3fc2903-6387-44e0-991e-1df29408947c",
   "metadata": {},
   "outputs": [],
   "source": []
  },
  {
   "cell_type": "code",
   "execution_count": null,
   "id": "565cb95e-ce15-4f13-a13a-c07c7adfbd8d",
   "metadata": {},
   "outputs": [],
   "source": []
  }
 ],
 "metadata": {
  "kernelspec": {
   "display_name": "Python 3 (ipykernel)",
   "language": "python",
   "name": "python3"
  },
  "language_info": {
   "codemirror_mode": {
    "name": "ipython",
    "version": 3
   },
   "file_extension": ".py",
   "mimetype": "text/x-python",
   "name": "python",
   "nbconvert_exporter": "python",
   "pygments_lexer": "ipython3",
   "version": "3.10.7"
  }
 },
 "nbformat": 4,
 "nbformat_minor": 5
}
